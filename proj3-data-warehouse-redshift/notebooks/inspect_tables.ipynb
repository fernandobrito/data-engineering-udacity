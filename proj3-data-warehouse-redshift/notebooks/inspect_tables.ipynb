{
 "cells": [
  {
   "cell_type": "markdown",
   "metadata": {},
   "source": [
    "# Inspect tables"
   ]
  },
  {
   "cell_type": "markdown",
   "metadata": {},
   "source": [
    "## Set up notebook and connection"
   ]
  },
  {
   "cell_type": "code",
   "execution_count": null,
   "metadata": {},
   "outputs": [],
   "source": [
    "import configparser\n",
    "config = configparser.ConfigParser()\n",
    "config.read_file(open('../dwh.cfg'))\n",
    "\n",
    "DWH_ENDPOINT           = config.get(\"CLUSTER\", \"HOST\")\n",
    "DWH_DB                 = config.get(\"CLUSTER\", \"DB_NAME\")\n",
    "DWH_DB_USER            = config.get(\"CLUSTER\", \"DB_USER\")\n",
    "DWH_DB_PASSWORD        = config.get(\"CLUSTER\", \"DB_PASSWORD\")\n",
    "DWH_PORT               = config.get(\"CLUSTER\", \"DB_PORT\")"
   ]
  },
  {
   "cell_type": "code",
   "execution_count": null,
   "metadata": {},
   "outputs": [],
   "source": [
    "%load_ext sql"
   ]
  },
  {
   "cell_type": "code",
   "execution_count": null,
   "metadata": {},
   "outputs": [],
   "source": [
    "conn_string=\"postgresql://{}:{}@{}:{}/{}\".format(DWH_DB_USER, DWH_DB_PASSWORD, DWH_ENDPOINT, DWH_PORT, DWH_DB)\n",
    "print(conn_string)\n",
    "%sql $conn_string"
   ]
  },
  {
   "cell_type": "markdown",
   "metadata": {},
   "source": [
    "## List tables"
   ]
  },
  {
   "cell_type": "code",
   "execution_count": null,
   "metadata": {},
   "outputs": [],
   "source": [
    "%sql SELECT * FROM INFORMATION_SCHEMA.TABLES WHERE table_schema = 'public';"
   ]
  },
  {
   "cell_type": "markdown",
   "metadata": {},
   "source": [
    "## Count raw events and NextSong events"
   ]
  },
  {
   "cell_type": "code",
   "execution_count": null,
   "metadata": {},
   "outputs": [],
   "source": [
    "%%sql\n",
    "    SELECT \n",
    "        COUNT(*) as total, \n",
    "        COUNT(CASE WHEN page = 'NextSong' THEN 1 END) as NextSong\n",
    "    FROM staging_events;"
   ]
  },
  {
   "cell_type": "markdown",
   "metadata": {},
   "source": [
    "## Sample of events"
   ]
  },
  {
   "cell_type": "code",
   "execution_count": null,
   "metadata": {},
   "outputs": [],
   "source": [
    "%sql SELECT * FROM staging_events LIMIT 2;"
   ]
  },
  {
   "cell_type": "markdown",
   "metadata": {},
   "source": [
    "## Max length of raw fields"
   ]
  },
  {
   "cell_type": "code",
   "execution_count": null,
   "metadata": {},
   "outputs": [],
   "source": [
    "%%sql \n",
    "    SELECT \n",
    "        MAX(LEN(artist)) as artist, \n",
    "        MAX(LEN(auth)) as auth, \n",
    "        MAX(LEN(first_name)) as first_name, \n",
    "        MAX(LEN(gender)) as gender,\n",
    "        MAX(LEN(item_in_session)) as item_in_session,\n",
    "        MAX(LEN(last_name)) as last_name\n",
    "    FROM staging_events;"
   ]
  },
  {
   "cell_type": "markdown",
   "metadata": {},
   "source": [
    "## Size of tables"
   ]
  },
  {
   "cell_type": "code",
   "execution_count": null,
   "metadata": {},
   "outputs": [],
   "source": [
    "%%sql \n",
    "    SELECT \n",
    "        (SELECT COUNT(*) FROM songplays) as songplays_count,\n",
    "        (SELECT COUNT(*) FROM users) as users_count,\n",
    "        (SELECT COUNT(*) FROM artists) as artists_count,\n",
    "        (SELECT COUNT(*) FROM songs) as songs_count,\n",
    "        (SELECT COUNT(*) FROM time) as time_count\n",
    "        \n",
    "    "
   ]
  },
  {
   "cell_type": "code",
   "execution_count": null,
   "metadata": {},
   "outputs": [],
   "source": []
  }
 ],
 "metadata": {
  "kernelspec": {
   "display_name": "Python 3",
   "language": "python",
   "name": "python3"
  },
  "language_info": {
   "codemirror_mode": {
    "name": "ipython",
    "version": 3
   },
   "file_extension": ".py",
   "mimetype": "text/x-python",
   "name": "python",
   "nbconvert_exporter": "python",
   "pygments_lexer": "ipython3",
   "version": "3.6.3"
  }
 },
 "nbformat": 4,
 "nbformat_minor": 2
}
