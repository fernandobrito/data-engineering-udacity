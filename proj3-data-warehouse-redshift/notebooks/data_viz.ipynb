{
 "cells": [
  {
   "cell_type": "markdown",
   "metadata": {},
   "source": [
    "# Data visualization"
   ]
  },
  {
   "cell_type": "code",
   "execution_count": null,
   "metadata": {},
   "outputs": [],
   "source": [
    "import configparser\n",
    "config = configparser.ConfigParser()\n",
    "config.read_file(open('../dwh.cfg'))\n",
    "\n",
    "DWH_ENDPOINT           = config.get(\"CLUSTER\", \"HOST\")\n",
    "DWH_DB                 = config.get(\"CLUSTER\", \"DB_NAME\")\n",
    "DWH_DB_USER            = config.get(\"CLUSTER\", \"DB_USER\")\n",
    "DWH_DB_PASSWORD        = config.get(\"CLUSTER\", \"DB_PASSWORD\")\n",
    "DWH_PORT               = config.get(\"CLUSTER\", \"DB_PORT\")"
   ]
  },
  {
   "cell_type": "code",
   "execution_count": null,
   "metadata": {},
   "outputs": [],
   "source": [
    "%load_ext sql"
   ]
  },
  {
   "cell_type": "code",
   "execution_count": null,
   "metadata": {},
   "outputs": [],
   "source": [
    "conn_string=\"postgresql://{}:{}@{}:{}/{}\".format(DWH_DB_USER, DWH_DB_PASSWORD, DWH_ENDPOINT, DWH_PORT, DWH_DB)\n",
    "print(conn_string)\n",
    "%sql $conn_string"
   ]
  },
  {
   "cell_type": "code",
   "execution_count": null,
   "metadata": {},
   "outputs": [],
   "source": [
    "from plotly.offline import iplot\n",
    "import plotly.graph_objs as go\n",
    "\n",
    "def enable_plotly_in_cell():\n",
    "  import IPython\n",
    "  from plotly.offline import init_notebook_mode\n",
    "  display(IPython.core.display.HTML('''\n",
    "        <script src=\"/static/components/requirejs/require.js\"></script>\n",
    "  '''))\n",
    "  init_notebook_mode(connected=False)"
   ]
  },
  {
   "cell_type": "markdown",
   "metadata": {},
   "source": [
    "## Play count, per user plan, per day"
   ]
  },
  {
   "cell_type": "code",
   "execution_count": null,
   "metadata": {},
   "outputs": [],
   "source": [
    "%%time\n",
    "%%sql pd << \n",
    "SELECT \n",
    "    to_char(sp.start_time, 'YYYY-MM-DD') as date, \n",
    "    sp.level, \n",
    "    count(*)\n",
    "FROM songplays sp\n",
    "GROUP BY 1, 2\n",
    "ORDER BY 1"
   ]
  },
  {
   "cell_type": "code",
   "execution_count": null,
   "metadata": {},
   "outputs": [],
   "source": [
    "enable_plotly_in_cell()\n",
    "\n",
    "pd = pd.DataFrame()\n",
    "\n",
    "free_dataset = pd[pd.level == 'free']\n",
    "free_bar = go.Bar(\n",
    "    x=list(free_dataset['date']),\n",
    "    y=list(free_dataset['count']),\n",
    "    name='Free',\n",
    "    marker=dict(\n",
    "        color='#d62728'\n",
    "    )\n",
    ")\n",
    "\n",
    "paid_dataset = pd[pd.level == 'paid']\n",
    "paid_bar = go.Bar(\n",
    "    x=paid_dataset['date'],\n",
    "    y=paid_dataset['count'],\n",
    "    name='Paid',\n",
    "    marker=dict(\n",
    "        color='#1f77b4'\n",
    "    )\n",
    ")\n",
    "\n",
    "data = [free_bar, paid_bar]\n",
    "layout = go.Layout(\n",
    "    barmode='stack',\n",
    "    title='Play count, per user plan, per day'\n",
    ")\n",
    "\n",
    "fig = go.Figure(data=data, layout=layout)\n",
    "iplot(fig, filename='stacked-bar')"
   ]
  },
  {
   "cell_type": "markdown",
   "metadata": {},
   "source": [
    "## Play count, per user gender, per day"
   ]
  },
  {
   "cell_type": "code",
   "execution_count": null,
   "metadata": {},
   "outputs": [],
   "source": [
    "%%time\n",
    "%%sql pd << \n",
    "SELECT \n",
    "    to_char(sp.start_time, 'YYYY-MM-DD') as date, \n",
    "    u.gender, \n",
    "    count(*)\n",
    "FROM songplays sp\n",
    "LEFT JOIN users u\n",
    "    ON u.user_id = sp.user_id\n",
    "GROUP BY 1, 2\n",
    "ORDER BY 1"
   ]
  },
  {
   "cell_type": "code",
   "execution_count": null,
   "metadata": {},
   "outputs": [],
   "source": [
    "enable_plotly_in_cell()\n",
    "\n",
    "pd = pd.DataFrame()\n",
    "\n",
    "male_dataset = pd[pd.gender == 'M']\n",
    "male_bar = go.Bar(\n",
    "    x=list(male_dataset['date']),\n",
    "    y=list(male_dataset['count']),\n",
    "    name='Male',\n",
    "    marker=dict(\n",
    "        color='#1f77b4'\n",
    "    )\n",
    ")\n",
    "\n",
    "female_dataset = pd[pd.gender == 'F']\n",
    "female_bar = go.Bar(\n",
    "    x=female_dataset['date'],\n",
    "    y=female_dataset['count'],\n",
    "    name='Female',\n",
    "    marker=dict(\n",
    "        color='#d62728'\n",
    "    )\n",
    ")\n",
    "\n",
    "data = [female_bar, male_bar]\n",
    "layout = go.Layout(\n",
    "    barmode='stack',\n",
    "    title='Play count, per user gender, per day'\n",
    ")\n",
    "\n",
    "fig = go.Figure(data=data, layout=layout)\n",
    "iplot(fig, filename='stacked-bar')"
   ]
  },
  {
   "cell_type": "markdown",
   "metadata": {},
   "source": [
    "## Play count, per artists identified, per day"
   ]
  },
  {
   "cell_type": "code",
   "execution_count": null,
   "metadata": {},
   "outputs": [],
   "source": [
    "%%time\n",
    "%%sql pd << \n",
    "SELECT \n",
    "    to_char(sp.start_time, 'YYYY-MM-DD') as date, \n",
    "    (sp.artist_id IS NOT NULL) as found_artist, \n",
    "    count(*)\n",
    "FROM songplays sp\n",
    "GROUP BY 1, 2\n",
    "ORDER BY 1"
   ]
  },
  {
   "cell_type": "code",
   "execution_count": null,
   "metadata": {},
   "outputs": [],
   "source": [
    "enable_plotly_in_cell()\n",
    "\n",
    "pd = pd.DataFrame()\n",
    "\n",
    "found_dataset = pd[pd.found_artist == True]\n",
    "found_bar = go.Bar(\n",
    "    x=list(found_dataset['date']),\n",
    "    y=list(found_dataset['count']),\n",
    "    name='Artist found',\n",
    "    marker=dict(\n",
    "        color='#1f77b4'\n",
    "    )\n",
    ")\n",
    "\n",
    "missing_dataset = pd[pd.found_artist == False]\n",
    "missing_bar = go.Bar(\n",
    "    x=missing_dataset['date'],\n",
    "    y=missing_dataset['count'],\n",
    "    name='Artist not found',\n",
    "    marker=dict(\n",
    "        color='#d62728'\n",
    "    )\n",
    ")\n",
    "\n",
    "data = [found_bar, missing_bar]\n",
    "layout = go.Layout(\n",
    "    barmode='stack',\n",
    "    title='Play count, per artists identified, per day'\n",
    ")\n",
    "\n",
    "fig = go.Figure(data=data, layout=layout)\n",
    "iplot(fig, filename='stacked-bar')"
   ]
  },
  {
   "cell_type": "markdown",
   "metadata": {},
   "source": [
    "## Play count, per songs identified, per day"
   ]
  },
  {
   "cell_type": "code",
   "execution_count": null,
   "metadata": {},
   "outputs": [],
   "source": [
    "%%time\n",
    "%%sql pd << \n",
    "SELECT \n",
    "    to_char(sp.start_time, 'YYYY-MM-DD') as date, \n",
    "    (sp.song_id IS NOT NULL) as found_song, \n",
    "    count(*)\n",
    "FROM songplays sp\n",
    "GROUP BY 1, 2\n",
    "ORDER BY 1"
   ]
  },
  {
   "cell_type": "code",
   "execution_count": null,
   "metadata": {},
   "outputs": [],
   "source": [
    "enable_plotly_in_cell()\n",
    "\n",
    "pd = pd.DataFrame()\n",
    "\n",
    "found_dataset = pd[pd.found_song == True]\n",
    "found_bar = go.Bar(\n",
    "    x=list(found_dataset['date']),\n",
    "    y=list(found_dataset['count']),\n",
    "    name='Song found',\n",
    "    marker=dict(\n",
    "        color='#1f77b4'\n",
    "    )\n",
    ")\n",
    "\n",
    "missing_dataset = pd[pd.found_song == False]\n",
    "missing_bar = go.Bar(\n",
    "    x=missing_dataset['date'],\n",
    "    y=missing_dataset['count'],\n",
    "    name='Song not found',\n",
    "    marker=dict(\n",
    "        color='#d62728'\n",
    "    )\n",
    ")\n",
    "\n",
    "data = [found_bar, missing_bar]\n",
    "layout = go.Layout(\n",
    "    barmode='stack',\n",
    "    title='Play count, per songs identified, per day'\n",
    ")\n",
    "\n",
    "fig = go.Figure(data=data, layout=layout)\n",
    "iplot(fig, filename='stacked-bar')"
   ]
  },
  {
   "cell_type": "code",
   "execution_count": null,
   "metadata": {},
   "outputs": [],
   "source": []
  }
 ],
 "metadata": {
  "kernelspec": {
   "display_name": "Python 3",
   "language": "python",
   "name": "python3"
  },
  "language_info": {
   "codemirror_mode": {
    "name": "ipython",
    "version": 3
   },
   "file_extension": ".py",
   "mimetype": "text/x-python",
   "name": "python",
   "nbconvert_exporter": "python",
   "pygments_lexer": "ipython3",
   "version": "3.6.3"
  }
 },
 "nbformat": 4,
 "nbformat_minor": 2
}
